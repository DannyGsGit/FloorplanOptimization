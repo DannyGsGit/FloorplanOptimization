{
 "cells": [
  {
   "cell_type": "markdown",
   "metadata": {},
   "source": [
    "# Floor Plan Optimization\n",
    "\n",
    "## Context\n",
    "The floorplan optimization seeks to find an optimal organization of machines on a factory floor to minimize the total travel time to produce a portfolio of parts. For each part in a catalog, we have:\n",
    "* A volume of parts produced\n",
    "* An ordered list of the machines operating on the materials to produce the part\n",
    "\n",
    "The floorplan is shown below. We assume each machine has unit length/width and is only accessible on one side. Machines are accessed by an aisle, with 3 intersecting aisles at the top, middle, and bottom of the floorplan as seen in the image below.\n",
    "\n",
    "<img src=\"Layout.png\" alt=\"drawing\" width=\"200\"/>\n",
    "\n",
    "## To Do:\n",
    "* Add distances to mid and bottom, with shortest distance\n",
    "* Speed up loop"
   ]
  },
  {
   "cell_type": "code",
   "execution_count": 1,
   "metadata": {},
   "outputs": [],
   "source": [
    "import pandas as pd\n",
    "import numpy as np\n",
    "import random\n",
    "from itertools import tee\n",
    "import itertools\n",
    "from dfply import *\n",
    "import matplotlib.pyplot as plt"
   ]
  },
  {
   "cell_type": "markdown",
   "metadata": {},
   "source": [
    "# Asset Definition\n",
    "In this example, we will have 50 machines producing 3000 parts."
   ]
  },
  {
   "cell_type": "markdown",
   "metadata": {},
   "source": [
    "First a list of machines is generated."
   ]
  },
  {
   "cell_type": "code",
   "execution_count": 2,
   "metadata": {},
   "outputs": [
    {
     "name": "stdout",
     "output_type": "stream",
     "text": [
      "Machines:\n",
      "['M0', 'M1', 'M2', 'M3', 'M4', 'M5', 'M6', 'M7', 'M8', 'M9', 'M10', 'M11', 'M12', 'M13', 'M14', 'M15', 'M16', 'M17', 'M18', 'M19', 'M20', 'M21', 'M22', 'M23', 'M24', 'M25', 'M26', 'M27', 'M28', 'M29', 'M30', 'M31', 'M32', 'M33', 'M34', 'M35', 'M36', 'M37', 'M38', 'M39', 'M40', 'M41', 'M42', 'M43', 'M44', 'M45', 'M46', 'M47', 'M48', 'M49']\n"
     ]
    }
   ],
   "source": [
    "# Machine List\n",
    "machineList = ['M' + str(x) for x in range(0,50)]\n",
    "print('Machines:')\n",
    "print(machineList)"
   ]
  },
  {
   "cell_type": "markdown",
   "metadata": {},
   "source": [
    "Next, we generate a list of parts and a build volume for each part."
   ]
  },
  {
   "cell_type": "code",
   "execution_count": 3,
   "metadata": {},
   "outputs": [
    {
     "name": "stdout",
     "output_type": "stream",
     "text": [
      "Part Table:\n",
      "  PN        Volume\n",
      "0  0   6243.462799\n",
      "1  1    217.362516\n",
      "2  2  10598.538551\n",
      "3  3   3400.536810\n",
      "4  4   2762.666297\n"
     ]
    }
   ],
   "source": [
    "# Part Table\n",
    "## Each part has a key, volume, and list of machines\n",
    "partTable = pd.DataFrame.from_dict({'PN': list(range(0,3000)),\n",
    "                                    'Volume': np.random.exponential(5000, 3000)})\n",
    "\n",
    "partTable.PN = partTable.PN.astype('O')\n",
    "\n",
    "print('Part Table:')\n",
    "print(partTable.head())"
   ]
  },
  {
   "cell_type": "markdown",
   "metadata": {},
   "source": [
    "In addition, each part gets a sequence of machine operations pulled from the machine list. The data is formated in melted format, i.e. each row describes the trip between machines."
   ]
  },
  {
   "cell_type": "code",
   "execution_count": 4,
   "metadata": {},
   "outputs": [
    {
     "data": {
      "text/html": [
       "<div>\n",
       "<style scoped>\n",
       "    .dataframe tbody tr th:only-of-type {\n",
       "        vertical-align: middle;\n",
       "    }\n",
       "\n",
       "    .dataframe tbody tr th {\n",
       "        vertical-align: top;\n",
       "    }\n",
       "\n",
       "    .dataframe thead th {\n",
       "        text-align: right;\n",
       "    }\n",
       "</style>\n",
       "<table border=\"1\" class=\"dataframe\">\n",
       "  <thead>\n",
       "    <tr style=\"text-align: right;\">\n",
       "      <th></th>\n",
       "      <th>PN</th>\n",
       "      <th>tripStartMachine</th>\n",
       "      <th>tripEndMachine</th>\n",
       "    </tr>\n",
       "  </thead>\n",
       "  <tbody>\n",
       "    <tr>\n",
       "      <th>0</th>\n",
       "      <td>0</td>\n",
       "      <td>start</td>\n",
       "      <td>M18</td>\n",
       "    </tr>\n",
       "    <tr>\n",
       "      <th>1</th>\n",
       "      <td>0</td>\n",
       "      <td>M18</td>\n",
       "      <td>M20</td>\n",
       "    </tr>\n",
       "    <tr>\n",
       "      <th>2</th>\n",
       "      <td>0</td>\n",
       "      <td>M20</td>\n",
       "      <td>M42</td>\n",
       "    </tr>\n",
       "    <tr>\n",
       "      <th>3</th>\n",
       "      <td>0</td>\n",
       "      <td>M42</td>\n",
       "      <td>M31</td>\n",
       "    </tr>\n",
       "    <tr>\n",
       "      <th>4</th>\n",
       "      <td>0</td>\n",
       "      <td>M31</td>\n",
       "      <td>M35</td>\n",
       "    </tr>\n",
       "  </tbody>\n",
       "</table>\n",
       "</div>"
      ],
      "text/plain": [
       "  PN tripStartMachine tripEndMachine\n",
       "0  0            start            M18\n",
       "1  0              M18            M20\n",
       "2  0              M20            M42\n",
       "3  0              M42            M31\n",
       "4  0              M31            M35"
      ]
     },
     "execution_count": 4,
     "metadata": {},
     "output_type": "execute_result"
    }
   ],
   "source": [
    "# For each part, generate a list of machines to be visited\n",
    "\n",
    "# Schema:\n",
    "# pn  |  tripstart   | tripend\n",
    "# 0   |  M1          | M2\n",
    "# 0   |  M2          | M5\n",
    "\n",
    "\n",
    "# Function to create pairwise list of machines\n",
    "def pairwise(sequence):\n",
    "    \"s -> (s0,s1), (s1,s2), (s2, s3), ...\"\n",
    "    a, b = tee(iter(sequence))\n",
    "    next(b, None)\n",
    "    return zip(a, b)\n",
    "\n",
    "# Provision an empty dataframe for results\n",
    "partOperations = pd.DataFrame(columns=['PN', 'tripStartMachine', 'tripEndMachine'])\n",
    "\n",
    "# For each part...\n",
    "for PN in list(range(0,3000)):\n",
    "    # Generate a sequence of operations (machines)\n",
    "    operations = random.sample(machineList, np.random.randint(low=2, high=15))\n",
    "    operations.insert(0, 'start')\n",
    "    # Pariwise dataframe\n",
    "    operations = pd.DataFrame(list(pairwise(operations)), columns=['tripStartMachine', 'tripEndMachine'])\n",
    "    operations['PN'] = PN\n",
    "    # Append to results dataframe\n",
    "    partOperations = partOperations.append(operations, sort=False)\n",
    "\n",
    "partOperations.head()"
   ]
  },
  {
   "cell_type": "markdown",
   "metadata": {},
   "source": [
    "Finally, we prescribe a floorplan with slots for at least as many machines as we have listed. Here we also measure distances between all slots. This calculation is done once so that we don't recalculate distances between machines on the fly."
   ]
  },
  {
   "cell_type": "code",
   "execution_count": 5,
   "metadata": {},
   "outputs": [],
   "source": [
    "# Floorplan\n",
    "\n",
    "## Set parameters of layout\n",
    "aisleCount = 10\n",
    "machinesPerSide = 5\n",
    "\n",
    "## Generate list of distances between each slot and each aisle\n",
    "## Schema:\n",
    "## slotID | aisle | position | dTop | dMid | dBot\n",
    "\n",
    "## Generate coordinates\n",
    "slotDistances = pd.DataFrame(list(itertools.product(list(range(aisleCount)), list(range((2*machinesPerSide) + 3)))),\n",
    "                             columns=['aisle', 'position'])\n",
    "\n",
    "## Measure distances\n",
    "slotDistances['dTop'] = ((2*machinesPerSide) + 3 - 1) - slotDistances[['position']]\n",
    "slotDistances['dBot'] = slotDistances[['position']]\n",
    "slotDistances['dMid'] = np.abs(slotDistances[['position']] - (machinesPerSide + 1))\n",
    "\n",
    "## Remove aisles\n",
    "slotDistances = slotDistances[~slotDistances.position.isin([0, machinesPerSide+1, 2*machinesPerSide+2])]\n",
    "\n",
    "## Add slot ID\n",
    "slotDistances['slotID'] = range(0, len(slotDistances))\n",
    "slotDistances.set_index('slotID', inplace=True)\n",
    "\n",
    "slotIndex = slotDistances.index\n",
    "\n",
    "# Pairwise slot distances\n",
    "pairDistances = []\n",
    "for x in list(itertools.product(slotDistances.index, slotDistances.index)):\n",
    "    dTopA = slotDistances.dTop.loc[x[0]]\n",
    "    dMidA = slotDistances.dMid.loc[x[0]]\n",
    "    dBotA = slotDistances.dBot.loc[x[0]]\n",
    "    aisleA = slotDistances.aisle.loc[x[0]]\n",
    "    dTopB = slotDistances.dTop.loc[x[1]]\n",
    "    dMidB = slotDistances.dMid.loc[x[1]]\n",
    "    dBotB = slotDistances.dBot.loc[x[1]]\n",
    "    aisleB = slotDistances.aisle.loc[x[1]]\n",
    "    \n",
    "    if aisleA == aisleB:\n",
    "        dist = np.abs(dTopA - dTopB)\n",
    "    else:\n",
    "        dist = min((dTopA + dTopB), (dMidA + dMidB), (dBotA + dBotB)) + np.abs(aisleA - aisleB)\n",
    "    \n",
    "    pairDistances.append((x[0], x[1], dist))\n",
    "    \n",
    "# Convert to dataframe\n",
    "pairDistances = pd.DataFrame(pairDistances, columns=['tripStartSlotID', 'tripEndSlotID', 'distance'])\n",
    "\n",
    "# Add distances from start to each slot\n",
    "startDistances = slotDistances[['dMid', 'aisle']].reset_index()\n",
    "startDistances.columns = ['tripEndSlotID', 'dMid', 'aisle']\n",
    "startDistances['distance'] = startDistances.dMid + startDistances.aisle + 1\n",
    "startDistances['tripStartSlotID'] = 'start'\n",
    "pairDistances = pairDistances.append(startDistances[['tripStartSlotID', 'tripEndSlotID', 'distance']], sort=False)\n",
    "\n",
    "# Clean up typing\n",
    "pairDistances['tripEndSlotID'] = pairDistances.tripEndSlotID.astype('O')"
   ]
  },
  {
   "cell_type": "code",
   "execution_count": 6,
   "metadata": {},
   "outputs": [
    {
     "data": {
      "text/plain": [
       "Int64Index([ 0,  1,  2,  3,  4,  5,  6,  7,  8,  9, 10, 11, 12, 13, 14, 15, 16,\n",
       "            17, 18, 19, 20, 21, 22, 23, 24, 25, 26, 27, 28, 29, 30, 31, 32, 33,\n",
       "            34, 35, 36, 37, 38, 39, 40, 41, 42, 43, 44, 45, 46, 47, 48, 49, 50,\n",
       "            51, 52, 53, 54, 55, 56, 57, 58, 59, 60, 61, 62, 63, 64, 65, 66, 67,\n",
       "            68, 69, 70, 71, 72, 73, 74, 75, 76, 77, 78, 79, 80, 81, 82, 83, 84,\n",
       "            85, 86, 87, 88, 89, 90, 91, 92, 93, 94, 95, 96, 97, 98, 99],\n",
       "           dtype='int64', name='slotID')"
      ]
     },
     "execution_count": 6,
     "metadata": {},
     "output_type": "execute_result"
    }
   ],
   "source": [
    "slotIndex"
   ]
  },
  {
   "cell_type": "code",
   "execution_count": 7,
   "metadata": {},
   "outputs": [
    {
     "data": {
      "text/html": [
       "<div>\n",
       "<style scoped>\n",
       "    .dataframe tbody tr th:only-of-type {\n",
       "        vertical-align: middle;\n",
       "    }\n",
       "\n",
       "    .dataframe tbody tr th {\n",
       "        vertical-align: top;\n",
       "    }\n",
       "\n",
       "    .dataframe thead th {\n",
       "        text-align: right;\n",
       "    }\n",
       "</style>\n",
       "<table border=\"1\" class=\"dataframe\">\n",
       "  <thead>\n",
       "    <tr style=\"text-align: right;\">\n",
       "      <th></th>\n",
       "      <th>aisle</th>\n",
       "      <th>position</th>\n",
       "      <th>dTop</th>\n",
       "      <th>dBot</th>\n",
       "      <th>dMid</th>\n",
       "    </tr>\n",
       "    <tr>\n",
       "      <th>slotID</th>\n",
       "      <th></th>\n",
       "      <th></th>\n",
       "      <th></th>\n",
       "      <th></th>\n",
       "      <th></th>\n",
       "    </tr>\n",
       "  </thead>\n",
       "  <tbody>\n",
       "    <tr>\n",
       "      <th>0</th>\n",
       "      <td>0</td>\n",
       "      <td>1</td>\n",
       "      <td>11</td>\n",
       "      <td>1</td>\n",
       "      <td>5</td>\n",
       "    </tr>\n",
       "    <tr>\n",
       "      <th>1</th>\n",
       "      <td>0</td>\n",
       "      <td>2</td>\n",
       "      <td>10</td>\n",
       "      <td>2</td>\n",
       "      <td>4</td>\n",
       "    </tr>\n",
       "    <tr>\n",
       "      <th>2</th>\n",
       "      <td>0</td>\n",
       "      <td>3</td>\n",
       "      <td>9</td>\n",
       "      <td>3</td>\n",
       "      <td>3</td>\n",
       "    </tr>\n",
       "    <tr>\n",
       "      <th>3</th>\n",
       "      <td>0</td>\n",
       "      <td>4</td>\n",
       "      <td>8</td>\n",
       "      <td>4</td>\n",
       "      <td>2</td>\n",
       "    </tr>\n",
       "    <tr>\n",
       "      <th>4</th>\n",
       "      <td>0</td>\n",
       "      <td>5</td>\n",
       "      <td>7</td>\n",
       "      <td>5</td>\n",
       "      <td>1</td>\n",
       "    </tr>\n",
       "  </tbody>\n",
       "</table>\n",
       "</div>"
      ],
      "text/plain": [
       "        aisle  position  dTop  dBot  dMid\n",
       "slotID                                   \n",
       "0           0         1    11     1     5\n",
       "1           0         2    10     2     4\n",
       "2           0         3     9     3     3\n",
       "3           0         4     8     4     2\n",
       "4           0         5     7     5     1"
      ]
     },
     "execution_count": 7,
     "metadata": {},
     "output_type": "execute_result"
    }
   ],
   "source": [
    "slotDistances.head()"
   ]
  },
  {
   "cell_type": "code",
   "execution_count": 8,
   "metadata": {},
   "outputs": [
    {
     "data": {
      "text/html": [
       "<div>\n",
       "<style scoped>\n",
       "    .dataframe tbody tr th:only-of-type {\n",
       "        vertical-align: middle;\n",
       "    }\n",
       "\n",
       "    .dataframe tbody tr th {\n",
       "        vertical-align: top;\n",
       "    }\n",
       "\n",
       "    .dataframe thead th {\n",
       "        text-align: right;\n",
       "    }\n",
       "</style>\n",
       "<table border=\"1\" class=\"dataframe\">\n",
       "  <thead>\n",
       "    <tr style=\"text-align: right;\">\n",
       "      <th></th>\n",
       "      <th>tripStartSlotID</th>\n",
       "      <th>tripEndSlotID</th>\n",
       "      <th>distance</th>\n",
       "    </tr>\n",
       "  </thead>\n",
       "  <tbody>\n",
       "    <tr>\n",
       "      <th>95</th>\n",
       "      <td>start</td>\n",
       "      <td>95</td>\n",
       "      <td>11</td>\n",
       "    </tr>\n",
       "    <tr>\n",
       "      <th>96</th>\n",
       "      <td>start</td>\n",
       "      <td>96</td>\n",
       "      <td>12</td>\n",
       "    </tr>\n",
       "    <tr>\n",
       "      <th>97</th>\n",
       "      <td>start</td>\n",
       "      <td>97</td>\n",
       "      <td>13</td>\n",
       "    </tr>\n",
       "    <tr>\n",
       "      <th>98</th>\n",
       "      <td>start</td>\n",
       "      <td>98</td>\n",
       "      <td>14</td>\n",
       "    </tr>\n",
       "    <tr>\n",
       "      <th>99</th>\n",
       "      <td>start</td>\n",
       "      <td>99</td>\n",
       "      <td>15</td>\n",
       "    </tr>\n",
       "  </tbody>\n",
       "</table>\n",
       "</div>"
      ],
      "text/plain": [
       "   tripStartSlotID tripEndSlotID  distance\n",
       "95           start            95        11\n",
       "96           start            96        12\n",
       "97           start            97        13\n",
       "98           start            98        14\n",
       "99           start            99        15"
      ]
     },
     "execution_count": 8,
     "metadata": {},
     "output_type": "execute_result"
    }
   ],
   "source": [
    "pairDistances.tail()"
   ]
  },
  {
   "cell_type": "markdown",
   "metadata": {},
   "source": [
    "# Assignment and Fitness"
   ]
  },
  {
   "cell_type": "code",
   "execution_count": 9,
   "metadata": {},
   "outputs": [
    {
     "data": {
      "text/html": [
       "<div>\n",
       "<style scoped>\n",
       "    .dataframe tbody tr th:only-of-type {\n",
       "        vertical-align: middle;\n",
       "    }\n",
       "\n",
       "    .dataframe tbody tr th {\n",
       "        vertical-align: top;\n",
       "    }\n",
       "\n",
       "    .dataframe thead th {\n",
       "        text-align: right;\n",
       "    }\n",
       "</style>\n",
       "<table border=\"1\" class=\"dataframe\">\n",
       "  <thead>\n",
       "    <tr style=\"text-align: right;\">\n",
       "      <th></th>\n",
       "      <th>machineID</th>\n",
       "      <th>slotID</th>\n",
       "    </tr>\n",
       "  </thead>\n",
       "  <tbody>\n",
       "    <tr>\n",
       "      <th>0</th>\n",
       "      <td>M32</td>\n",
       "      <td>0</td>\n",
       "    </tr>\n",
       "    <tr>\n",
       "      <th>1</th>\n",
       "      <td>M17</td>\n",
       "      <td>1</td>\n",
       "    </tr>\n",
       "    <tr>\n",
       "      <th>2</th>\n",
       "      <td>NaN</td>\n",
       "      <td>2</td>\n",
       "    </tr>\n",
       "    <tr>\n",
       "      <th>3</th>\n",
       "      <td>NaN</td>\n",
       "      <td>3</td>\n",
       "    </tr>\n",
       "    <tr>\n",
       "      <th>4</th>\n",
       "      <td>M20</td>\n",
       "      <td>4</td>\n",
       "    </tr>\n",
       "  </tbody>\n",
       "</table>\n",
       "</div>"
      ],
      "text/plain": [
       "  machineID slotID\n",
       "0       M32      0\n",
       "1       M17      1\n",
       "2       NaN      2\n",
       "3       NaN      3\n",
       "4       M20      4"
      ]
     },
     "execution_count": 9,
     "metadata": {},
     "output_type": "execute_result"
    }
   ],
   "source": [
    "# Sample len(machine) slots from slot index to allocate machines to slots\n",
    "slotAssignment = pd.DataFrame({'machineID': machineList, \n",
    "                               'slotID': random.sample(list(slotIndex), len(machineList))})\n",
    "\n",
    "# Join a complete list of slotIDs to include blanks\n",
    "slotAssignment = slotAssignment.merge(pd.DataFrame({'slotID': list(slotIndex)}), how='right').sort_values('slotID')\n",
    "\n",
    "# Add start position\n",
    "slotAssignment = slotAssignment.append(pd.DataFrame({'machineID': ['start'], 'slotID': ['start']}), sort=False)\n",
    "slotAssignment = slotAssignment.reset_index(drop=True)\n",
    "\n",
    "slotAssignment.head()"
   ]
  },
  {
   "cell_type": "code",
   "execution_count": 10,
   "metadata": {},
   "outputs": [
    {
     "name": "stdout",
     "output_type": "stream",
     "text": [
      "Total Units Traveled in Init Configuration: 978333584.321669\n"
     ]
    }
   ],
   "source": [
    "# Define the fitness function to measure quality of a solution\n",
    "def costFunction(floorplan, partOps, pairDists, partVolumes):\n",
    "    # Map machines in part ops to slots in floorplan\n",
    "    fitnessCalc = partOps.merge(floorplan, how='left', left_on='tripStartMachine', right_on='machineID')\n",
    "    fitnessCalc = fitnessCalc.merge(floorplan, how='left', left_on='tripEndMachine', right_on='machineID')\n",
    "    ## Clean up the join\n",
    "    fitnessCalc = fitnessCalc[['PN', 'tripStartMachine', 'tripEndMachine',\n",
    "                              'slotID_x', 'slotID_y']]\n",
    "    fitnessCalc.columns = ['PN', 'tripStartMachine', 'tripEndMachine',\n",
    "                           'tripStartSlotID', 'tripEndSlotID']\n",
    "    \n",
    "    # Add distances between slot pairs\n",
    "    fitnessCalc = fitnessCalc.merge(pairDists, how='left',\n",
    "                                   on=['tripStartSlotID', 'tripEndSlotID'])\n",
    "    \n",
    "    # Part volume\n",
    "    fitnessCalc = fitnessCalc.merge(partVolumes, how='left', on='PN')\n",
    "\n",
    "    # calculate total travels\n",
    "    fitnessCalc['weightedDistance'] = fitnessCalc.distance * fitnessCalc.Volume\n",
    "    result = sum(fitnessCalc.weightedDistance)\n",
    "        \n",
    "    return(result)\n",
    "\n",
    "# Test the fitness function on the initial configuration\n",
    "initCost = costFunction(slotAssignment, partOperations, pairDistances, partTable)\n",
    "print('Total Units Traveled in Init Configuration: {}'.format(initCost))"
   ]
  },
  {
   "cell_type": "code",
   "execution_count": 11,
   "metadata": {},
   "outputs": [
    {
     "name": "stderr",
     "output_type": "stream",
     "text": [
      "c:\\users\\dagodbou\\envs\\sandbox\\lib\\site-packages\\pandas\\core\\indexing.py:630: SettingWithCopyWarning: \n",
      "A value is trying to be set on a copy of a slice from a DataFrame.\n",
      "Try using .loc[row_indexer,col_indexer] = value instead\n",
      "\n",
      "See the caveats in the documentation: http://pandas.pydata.org/pandas-docs/stable/indexing.html#indexing-view-versus-copy\n",
      "  self.obj[item_labels[indexer[info_axis]]] = value\n"
     ]
    },
    {
     "data": {
      "text/html": [
       "<div>\n",
       "<style scoped>\n",
       "    .dataframe tbody tr th:only-of-type {\n",
       "        vertical-align: middle;\n",
       "    }\n",
       "\n",
       "    .dataframe tbody tr th {\n",
       "        vertical-align: top;\n",
       "    }\n",
       "\n",
       "    .dataframe thead th {\n",
       "        text-align: right;\n",
       "    }\n",
       "</style>\n",
       "<table border=\"1\" class=\"dataframe\">\n",
       "  <thead>\n",
       "    <tr style=\"text-align: right;\">\n",
       "      <th></th>\n",
       "      <th>machineID</th>\n",
       "      <th>slotID</th>\n",
       "    </tr>\n",
       "  </thead>\n",
       "  <tbody>\n",
       "    <tr>\n",
       "      <th>0</th>\n",
       "      <td>M32</td>\n",
       "      <td>0</td>\n",
       "    </tr>\n",
       "    <tr>\n",
       "      <th>1</th>\n",
       "      <td>M17</td>\n",
       "      <td>1</td>\n",
       "    </tr>\n",
       "    <tr>\n",
       "      <th>2</th>\n",
       "      <td>NaN</td>\n",
       "      <td>2</td>\n",
       "    </tr>\n",
       "    <tr>\n",
       "      <th>3</th>\n",
       "      <td>NaN</td>\n",
       "      <td>3</td>\n",
       "    </tr>\n",
       "    <tr>\n",
       "      <th>4</th>\n",
       "      <td>M20</td>\n",
       "      <td>4</td>\n",
       "    </tr>\n",
       "  </tbody>\n",
       "</table>\n",
       "</div>"
      ],
      "text/plain": [
       "  machineID slotID\n",
       "0       M32      0\n",
       "1       M17      1\n",
       "2       NaN      2\n",
       "3       NaN      3\n",
       "4       M20      4"
      ]
     },
     "execution_count": 11,
     "metadata": {},
     "output_type": "execute_result"
    }
   ],
   "source": [
    "# Define function to swap n pairs of slots during annealing\n",
    "def iteratePlan(floorplan, slots, n=2):\n",
    "    while n > 0:\n",
    "        # Take 2 slots at random\n",
    "        slotsToSwap = random.sample(list(slots), 2)\n",
    "        subdat = floorplan.loc[floorplan.slotID.isin(slotsToSwap), :]\n",
    "        # Reverse order\n",
    "        subdat.loc[:,'machineID'] = subdat.loc[:,'machineID'].values[::-1]\n",
    "        # Replace in floorplan\n",
    "        floorplan = floorplan.loc[~floorplan.slotID.isin(slotsToSwap), :]\n",
    "        floorplan = floorplan.append(subdat)\n",
    "        # Increment down\n",
    "        n = n-1\n",
    "    return(floorplan)\n",
    "\n",
    "# See a sample swap\n",
    "iteratePlan(slotAssignment, slotIndex).head()"
   ]
  },
  {
   "cell_type": "code",
   "execution_count": 12,
   "metadata": {},
   "outputs": [
    {
     "name": "stderr",
     "output_type": "stream",
     "text": [
      "c:\\users\\dagodbou\\envs\\sandbox\\lib\\site-packages\\pandas\\core\\generic.py:4405: SettingWithCopyWarning: \n",
      "A value is trying to be set on a copy of a slice from a DataFrame.\n",
      "Try using .loc[row_indexer,col_indexer] = value instead\n",
      "\n",
      "See the caveats in the documentation: http://pandas.pydata.org/pandas-docs/stable/indexing.html#indexing-view-versus-copy\n",
      "  self[name] = value\n",
      "c:\\users\\dagodbou\\envs\\sandbox\\lib\\site-packages\\ipykernel_launcher.py:5: SettingWithCopyWarning: \n",
      "A value is trying to be set on a copy of a slice from a DataFrame\n",
      "\n",
      "See the caveats in the documentation: http://pandas.pydata.org/pandas-docs/stable/indexing.html#indexing-view-versus-copy\n",
      "  \"\"\"\n",
      "c:\\users\\dagodbou\\envs\\sandbox\\lib\\site-packages\\ipykernel_launcher.py:6: SettingWithCopyWarning: \n",
      "A value is trying to be set on a copy of a slice from a DataFrame\n",
      "\n",
      "See the caveats in the documentation: http://pandas.pydata.org/pandas-docs/stable/indexing.html#indexing-view-versus-copy\n",
      "  \n"
     ]
    },
    {
     "data": {
      "text/plain": [
       "<matplotlib.collections.PathCollection at 0x25e62b75d30>"
      ]
     },
     "execution_count": 12,
     "metadata": {},
     "output_type": "execute_result"
    },
    {
     "data": {
      "image/png": "[encoded data removed]",
      "text/plain": [
       "<Figure size 432x288 with 1 Axes>"
      ]
     },
     "metadata": {
      "needs_background": "light"
     },
     "output_type": "display_data"
    }
   ],
   "source": [
    "finalLayout = slotAssignment[~(slotAssignment.slotID == 'start')]\n",
    "finalLayout.slotID = finalLayout.slotID.astype('int')\n",
    "\n",
    "fillPlot = slotDistances.reset_index().merge(finalLayout, how='left')\n",
    "fillPlot.machineID[fillPlot.machineID.notna()] = 1\n",
    "fillPlot.machineID[fillPlot.machineID.isna()] = 0\n",
    "fillPlot.machineID = fillPlot.machineID.astype(float)\n",
    "fillPlot.head(10)\n",
    "fillPlot.dtypes\n",
    "plt.scatter(fillPlot.aisle, fillPlot.position, c = fillPlot.machineID)"
   ]
  },
  {
   "cell_type": "markdown",
   "metadata": {},
   "source": [
    "## Annealing"
   ]
  },
  {
   "cell_type": "code",
   "execution_count": 13,
   "metadata": {},
   "outputs": [
    {
     "name": "stdout",
     "output_type": "stream",
     "text": [
      "Temperature: 2000000    | Score: 974895664.6496623\n",
      "Temperature: 1900000.0    | Score: 951611882.1696976\n",
      "Temperature: 1805000.0    | Score: 947347961.6751214\n",
      "Temperature: 1714750.0    | Score: 910957926.7630804\n",
      "Temperature: 1629012.5    | Score: 897648664.69537\n",
      "Temperature: 1547561.875    | Score: 872787393.9822781\n",
      "Temperature: 1470183.78125    | Score: 872820987.5072173\n",
      "Temperature: 1396674.5921874999    | Score: 873074683.6418761\n",
      "Temperature: 1326840.8625781247    | Score: 856243296.5388408\n",
      "Temperature: 1260498.8194492185    | Score: 853901206.2422045\n",
      "Temperature: 1197473.8784767576    | Score: 844896461.6396888\n",
      "Temperature: 1137600.1845529196    | Score: 844128754.2544875\n",
      "Temperature: 1080720.1753252735    | Score: 843362980.3770101\n",
      "Temperature: 1026684.1665590098    | Score: 834901373.9251829\n",
      "Temperature: 975349.9582310593    | Score: 825081571.1987457\n",
      "Temperature: 926582.4603195062    | Score: 819154925.8425817\n",
      "Temperature: 880253.3373035309    | Score: 811025557.391921\n",
      "Temperature: 836240.6704383543    | Score: 809452810.99082\n",
      "Temperature: 794428.6369164365    | Score: 806305546.7359883\n",
      "Temperature: 754707.2050706146    | Score: 805694098.1893595\n",
      "Temperature: 716971.8448170838    | Score: 799367591.8057339\n",
      "Temperature: 681123.2525762296    | Score: 796902802.8434554\n",
      "Temperature: 647067.0899474181    | Score: 797383896.4064219\n",
      "Temperature: 614713.7354500472    | Score: 792507829.3214746\n",
      "Temperature: 583978.0486775448    | Score: 783664337.6724949\n",
      "Temperature: 554779.1462436676    | Score: 784623871.1743717\n",
      "Temperature: 527040.1889314841    | Score: 783881886.342703\n",
      "Temperature: 500688.17948490987    | Score: 783402483.978863\n",
      "Temperature: 475653.7705106643    | Score: 782740451.3448547\n",
      "Temperature: 451871.0819851311    | Score: 782730833.464903\n",
      "Temperature: 429277.5278858745    | Score: 780720912.3259679\n",
      "Temperature: 407813.65149158076    | Score: 779045322.0933313\n",
      "Temperature: 387422.9689170017    | Score: 777246402.1807357\n",
      "Temperature: 368051.82047115156    | Score: 776529857.0933745\n",
      "Temperature: 349649.22944759397    | Score: 775011118.6527275\n",
      "Temperature: 332166.7679752142    | Score: 770541159.0914102\n",
      "Temperature: 315558.4295764535    | Score: 769247676.5592338\n",
      "Temperature: 299780.5080976308    | Score: 768620854.3405763\n",
      "Temperature: 284791.48269274924    | Score: 763866604.7028868\n",
      "Temperature: 270551.90855811175    | Score: 763682983.1973462\n",
      "Temperature: 257024.31313020617    | Score: 763637009.147275\n",
      "Temperature: 244173.09747369585    | Score: 763707671.7026807\n",
      "Temperature: 231964.44260001104    | Score: 762478329.5802041\n",
      "Temperature: 220366.22047001048    | Score: 761380579.4002051\n",
      "Temperature: 209347.90944650993    | Score: 761528730.6898997\n",
      "Temperature: 198880.51397418443    | Score: 761119931.2724311\n",
      "Temperature: 188936.4882754752    | Score: 761119931.2724311\n",
      "Temperature: 179489.6638617014    | Score: 759972993.7850536\n",
      "Temperature: 170515.18066861632    | Score: 759841980.0520567\n",
      "Temperature: 161989.42163518548    | Score: 759860510.1885052\n",
      "Temperature: 153889.9505534262    | Score: 759341397.1412688\n",
      "Temperature: 146195.4530257549    | Score: 759133910.1095141\n",
      "Temperature: 138885.68037446713    | Score: 759133910.1095141\n",
      "Temperature: 131941.39635574378    | Score: 758869153.9482238\n",
      "Temperature: 125344.32653795659    | Score: 758869153.9482238\n",
      "Temperature: 119077.11021105875    | Score: 758832668.7954965\n",
      "Temperature: 113123.25470050581    | Score: 757769606.0695441\n",
      "Temperature: 107467.09196548052    | Score: 756423622.0683936\n",
      "Temperature: 102093.73736720649    | Score: 755708122.5573845\n",
      "Temperature: 96989.05049884616    | Score: 755708122.5573845\n",
      "Temperature: 92139.59797390384    | Score: 755271129.4208939\n",
      "Temperature: 87532.61807520865    | Score: 755271129.4208939\n",
      "Temperature: 83155.98717144821    | Score: 754657487.6570945\n",
      "Temperature: 78998.1878128758    | Score: 754657487.6570945\n",
      "Temperature: 75048.278422232    | Score: 754514509.5237442\n",
      "Temperature: 71295.8645011204    | Score: 754514509.5237442\n",
      "Temperature: 67731.07127606438    | Score: 754465185.7914598\n",
      "Temperature: 64344.51771226116    | Score: 754465185.7914598\n",
      "Temperature: 61127.2918266481    | Score: 754457516.0927346\n",
      "Temperature: 58070.92723531569    | Score: 753605662.6022565\n",
      "Temperature: 55167.380873549904    | Score: 753267849.1992764\n",
      "Temperature: 52409.011829872405    | Score: 753267849.1992764\n",
      "Temperature: 49788.56123837878    | Score: 751919814.5178909\n",
      "Temperature: 47299.133176459836    | Score: 751959248.8742543\n",
      "Temperature: 44934.17651763684    | Score: 751331549.3900429\n",
      "Temperature: 42687.467691754995    | Score: 751331549.3900429\n",
      "Temperature: 40553.094307167245    | Score: 751331549.3900429\n",
      "Temperature: 38525.43959180888    | Score: 748779564.1412001\n",
      "Temperature: 36599.16761221843    | Score: 748779564.1412001\n",
      "Temperature: 34769.20923160751    | Score: 748779564.1412001\n",
      "Temperature: 33030.74877002713    | Score: 748779564.1412001\n",
      "Temperature: 31379.211331525774    | Score: 748779564.1412001\n",
      "Temperature: 29810.250764949484    | Score: 748779564.1412001\n",
      "Temperature: 28319.738226702008    | Score: 748613029.0828747\n",
      "Temperature: 26903.751315366906    | Score: 748613029.0828747\n",
      "Temperature: 25558.56374959856    | Score: 748102467.5916592\n",
      "Temperature: 24280.63556211863    | Score: 747744241.9021887\n",
      "Temperature: 23066.6037840127    | Score: 747269087.9916414\n",
      "Temperature: 21913.273594812064    | Score: 747148427.0774511\n",
      "Temperature: 20817.60991507146    | Score: 747148427.0774511\n",
      "Temperature: 19776.729419317886    | Score: 747148427.0774511\n",
      "Temperature: 18787.89294835199    | Score: 747007233.9210193\n",
      "Temperature: 17848.49830093439    | Score: 745788366.4862416\n",
      "Temperature: 16956.07338588767    | Score: 745555109.0342207\n",
      "Temperature: 16108.269716593286    | Score: 745555109.0342207\n",
      "Temperature: 15302.85623076362    | Score: 745555109.0342207\n",
      "Temperature: 14537.713419225438    | Score: 745555109.0342207\n",
      "Temperature: 13810.827748264166    | Score: 745555109.0342207\n",
      "Temperature: 13120.286360850958    | Score: 745509929.2621891\n",
      "Temperature: 12464.272042808409    | Score: 745509929.2621891\n",
      "Temperature: 11841.058440667988    | Score: 745509929.2621891\n",
      "Temperature: 11249.005518634589    | Score: 745129069.4338956\n",
      "Temperature: 10686.55524270286    | Score: 745129069.4338956\n",
      "Temperature: 10152.227480567717    | Score: 745129069.4338956\n",
      "Temperature: 9644.616106539332    | Score: 745015327.9948678\n",
      "Temperature: 9162.385301212365    | Score: 745015327.9948678\n",
      "Temperature: 8704.266036151746    | Score: 745015327.9948678\n",
      "Temperature: 8269.052734344159    | Score: 745015327.9948678\n",
      "Temperature: 7855.600097626951    | Score: 745005709.0157012\n",
      "Temperature: 7462.820092745603    | Score: 744754961.7059115\n",
      "Temperature: 7089.6790881083225    | Score: 744754961.7059115\n",
      "Temperature: 6735.195133702906    | Score: 744201224.9588671\n",
      "Temperature: 6398.43537701776    | Score: 744201224.9588671\n",
      "Temperature: 6078.5136081668725    | Score: 743887285.3902718\n",
      "Temperature: 5774.587927758528    | Score: 743806087.6729072\n",
      "Temperature: 5485.858531370602    | Score: 743806087.6729072\n",
      "Temperature: 5211.565604802071    | Score: 743806087.6729072\n"
     ]
    }
   ],
   "source": [
    "# Initialize parameters\n",
    "def acceptanceProbability(oldCost, newCost, temp):\n",
    "    return np.exp((oldCost - newCost) / temp)\n",
    "\n",
    "# Define annealer\n",
    "def anneal(sol, partOps, pairDist, partTbl, slotIdx):\n",
    "    #-------------------------------------------\n",
    "    # Args:\n",
    "    # sol: Current solution\n",
    "    # partOps: Sequence of operations (machines) for each part\n",
    "    # pairDist: Distances between all machine slots\n",
    "    # partTbl: Part volumes\n",
    "    # slotIdx: Map of machines to machine slots\n",
    "    #--------------------------------------------\n",
    "    \n",
    "    # Initialize the annealer\n",
    "    old_cost = costFunction(sol, partOps, pairDist, partTbl)\n",
    "    T = 2000000\n",
    "    Tmin = 5000\n",
    "    alpha = 0.95 # Factor by which to decrement T\n",
    "    Tsamples = 20 # How many iterations to run at a given T before lowering T\n",
    "    Tlist = []\n",
    "    Clist = []\n",
    "    \n",
    "    # Start main loop\n",
    "    iloop = 1\n",
    "    while T > Tmin:\n",
    "        i = 1\n",
    "        # For the current temperature T, run Tsamples iterations\n",
    "        while i <= Tsamples:\n",
    "            # Generate a new solution\n",
    "            new_sol = iteratePlan(sol, slotIdx, n=1)\n",
    "            # Calculate fitness of new solution\n",
    "            new_cost = costFunction(new_sol, partOps, pairDist, partTbl)\n",
    "            # Calculate acceptance probability and compare to random float\n",
    "            ap = acceptanceProbability(old_cost, new_cost, T)\n",
    "            if ap > random.random():\n",
    "                # Accept new solution if better than old (ap >1), or randomly accepted\n",
    "                sol = new_sol\n",
    "                old_cost = new_cost\n",
    "            i += 1\n",
    "        print(\"Temperature: {}    | Score: {}\".format(T, old_cost))\n",
    "        # Add final temperature and cost of this 'epoch' to results list\n",
    "        Tlist = Tlist + [iloop]\n",
    "        Clist = Clist + [old_cost]\n",
    "        T = T*alpha\n",
    "        iloop += 1\n",
    "    return sol, old_cost, Tlist, Clist\n",
    "\n",
    "# Run the annealing function\n",
    "finalLayout, cost, Tlist, Clist= anneal(slotAssignment, partOperations, pairDistances, partTable, slotIndex)"
   ]
  },
  {
   "cell_type": "code",
   "execution_count": 14,
   "metadata": {},
   "outputs": [],
   "source": [
    "results = pd.DataFrame({'temperature': Tlist, 'cost': Clist})"
   ]
  },
  {
   "cell_type": "code",
   "execution_count": 15,
   "metadata": {},
   "outputs": [
    {
     "data": {
      "text/plain": [
       "<matplotlib.collections.PathCollection at 0x25e65cd39b0>"
      ]
     },
     "execution_count": 15,
     "metadata": {},
     "output_type": "execute_result"
    },
    {
     "data": {
      "image/png": "[encoded data removed]",
      "text/plain": [
       "<Figure size 432x576 with 1 Axes>"
      ]
     },
     "metadata": {
      "needs_background": "light"
     },
     "output_type": "display_data"
    }
   ],
   "source": [
    "plt.figure(figsize=(6,8))\n",
    "plt.scatter(results.temperature, results.cost)"
   ]
  },
  {
   "cell_type": "code",
   "execution_count": 16,
   "metadata": {},
   "outputs": [
    {
     "name": "stdout",
     "output_type": "stream",
     "text": [
      "Percent improvement over random: 23.97%\n"
     ]
    }
   ],
   "source": [
    "print(\"Percent improvement over random: {}%\".format(round(100 * (initCost - cost) / initCost,2)))"
   ]
  },
  {
   "cell_type": "code",
   "execution_count": 17,
   "metadata": {},
   "outputs": [
    {
     "name": "stderr",
     "output_type": "stream",
     "text": [
      "c:\\users\\dagodbou\\envs\\sandbox\\lib\\site-packages\\ipykernel_launcher.py:5: SettingWithCopyWarning: \n",
      "A value is trying to be set on a copy of a slice from a DataFrame\n",
      "\n",
      "See the caveats in the documentation: http://pandas.pydata.org/pandas-docs/stable/indexing.html#indexing-view-versus-copy\n",
      "  \"\"\"\n",
      "c:\\users\\dagodbou\\envs\\sandbox\\lib\\site-packages\\ipykernel_launcher.py:6: SettingWithCopyWarning: \n",
      "A value is trying to be set on a copy of a slice from a DataFrame\n",
      "\n",
      "See the caveats in the documentation: http://pandas.pydata.org/pandas-docs/stable/indexing.html#indexing-view-versus-copy\n",
      "  \n"
     ]
    },
    {
     "data": {
      "text/plain": [
       "<matplotlib.collections.PathCollection at 0x25e65d39a20>"
      ]
     },
     "execution_count": 17,
     "metadata": {},
     "output_type": "execute_result"
    },
    {
     "data": {
      "image/png": "[encoded data removed]",
      "text/plain": [
       "<Figure size 432x288 with 1 Axes>"
      ]
     },
     "metadata": {
      "needs_background": "light"
     },
     "output_type": "display_data"
    }
   ],
   "source": [
    "finalLayout = finalLayout[~(finalLayout.slotID == 'start')]\n",
    "finalLayout.slotID = finalLayout.slotID.astype('int')\n",
    "\n",
    "fillPlot = slotDistances.reset_index().merge(finalLayout, how='left')\n",
    "fillPlot.machineID[fillPlot.machineID.notna()] = 1\n",
    "fillPlot.machineID[fillPlot.machineID.isna()] = 0\n",
    "fillPlot.machineID = fillPlot.machineID.astype(float)\n",
    "fillPlot.head(10)\n",
    "fillPlot.dtypes\n",
    "plt.scatter(fillPlot.aisle, fillPlot.position, c = fillPlot.machineID)"
   ]
  }
 ],
 "metadata": {
  "kernelspec": {
   "display_name": "Python 3",
   "language": "python",
   "name": "python3"
  },
  "language_info": {
   "codemirror_mode": {
    "name": "ipython",
    "version": 3
   },
   "file_extension": ".py",
   "mimetype": "text/x-python",
   "name": "python",
   "nbconvert_exporter": "python",
   "pygments_lexer": "ipython3",
   "version": "3.7.2"
  },
  "toc": {
   "base_numbering": 1,
   "nav_menu": {},
   "number_sections": true,
   "sideBar": true,
   "skip_h1_title": false,
   "title_cell": "Table of Contents",
   "title_sidebar": "Contents",
   "toc_cell": false,
   "toc_position": {},
   "toc_section_display": true,
   "toc_window_display": true
  },
  "varInspector": {
   "cols": {
    "lenName": 16,
    "lenType": 16,
    "lenVar": 40
   },
   "kernels_config": {
    "python": {
     "delete_cmd_postfix": "",
     "delete_cmd_prefix": "del ",
     "library": "var_list.py",
     "varRefreshCmd": "print(var_dic_list())"
    },
    "r": {
     "delete_cmd_postfix": ") ",
     "delete_cmd_prefix": "rm(",
     "library": "var_list.r",
     "varRefreshCmd": "cat(var_dic_list()) "
    }
   },
   "types_to_exclude": [
    "module",
    "function",
    "builtin_function_or_method",
    "instance",
    "_Feature"
   ],
   "window_display": false
  }
 },
 "nbformat": 4,
 "nbformat_minor": 2
}
