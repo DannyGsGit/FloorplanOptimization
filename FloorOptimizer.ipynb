{
 "cells": [
  {
   "cell_type": "markdown",
   "metadata": {},
   "source": [
    "# Floor Plan Optimization\n",
    "\n",
    "## Context\n",
    "The floorplan optimization seeks to find an optimal organization of machines on a factory floor to minimize the total travel time to produce a portfolio of parts. For each part in a catalog, we have:\n",
    "* A volume of parts produced\n",
    "* An ordered list of the machines operating on the materials to produce the part\n",
    "\n",
    "The floorplan is shown below. We assume each machine has unit length/width and is only accessible on one side. Machines are accessed by an aisle, with 3 intersecting aisles at the top, middle, and bottom of the floorplan as seen in the image below.\n",
    "\n",
    "<img src=\"Layout.png\" alt=\"drawing\" width=\"200\"/>\n",
    "\n",
    "## To Do:\n",
    "* Add distances to mid and bottom, with shortest distance\n",
    "* Speed up loop"
   ]
  },
  {
   "cell_type": "code",
   "execution_count": null,
   "metadata": {},
   "outputs": [],
   "source": [
    "import pandas as pd\n",
    "import numpy as np\n",
    "import random\n",
    "from itertools import tee\n",
    "import itertools\n",
    "from dfply import *\n",
    "import matplotlib.pyplot as plt"
   ]
  },
  {
   "cell_type": "markdown",
   "metadata": {},
   "source": [
    "# Asset Definition\n",
    "In this example, we will have 50 machines producing 3000 parts."
   ]
  },
  {
   "cell_type": "markdown",
   "metadata": {},
   "source": [
    "First a list of machines is generated."
   ]
  },
  {
   "cell_type": "code",
   "execution_count": null,
   "metadata": {},
   "outputs": [],
   "source": [
    "# Machine List\n",
    "machineList = ['M' + str(x) for x in range(0,50)]\n",
    "print('Machines:')\n",
    "print(machineList)"
   ]
  },
  {
   "cell_type": "markdown",
   "metadata": {},
   "source": [
    "Next, we generate a list of parts and a build volume for each part."
   ]
  },
  {
   "cell_type": "code",
   "execution_count": null,
   "metadata": {},
   "outputs": [],
   "source": [
    "# Part Table\n",
    "## Each part has a key, volume, and list of machines\n",
    "partTable = pd.DataFrame.from_dict({'PN': list(range(0,3000)),\n",
    "                                    'Volume': np.random.exponential(5000, 3000)})\n",
    "\n",
    "partTable.PN = partTable.PN.astype('O')\n",
    "\n",
    "print('Part Table:')\n",
    "print(partTable.head())"
   ]
  },
  {
   "cell_type": "markdown",
   "metadata": {},
   "source": [
    "In addition, each part gets a sequence of machine operations pulled from the machine list. The data is formated in melted format, i.e. each row describes the trip between machines."
   ]
  },
  {
   "cell_type": "code",
   "execution_count": null,
   "metadata": {},
   "outputs": [],
   "source": [
    "# For each part, generate a list of machines to be visited\n",
    "\n",
    "# Schema:\n",
    "# pn  |  tripstart   | tripend\n",
    "# 0   |  M1          | M2\n",
    "# 0   |  M2          | M5\n",
    "\n",
    "\n",
    "# Function to create pairwise list of machines\n",
    "def pairwise(sequence):\n",
    "    \"s -> (s0,s1), (s1,s2), (s2, s3), ...\"\n",
    "    a, b = tee(iter(sequence))\n",
    "    next(b, None)\n",
    "    return zip(a, b)\n",
    "\n",
    "# Provision an empty dataframe for results\n",
    "partOperations = pd.DataFrame(columns=['PN', 'tripStartMachine', 'tripEndMachine'])\n",
    "\n",
    "# For each part...\n",
    "for PN in list(range(0,3000)):\n",
    "    # Generate a sequence of operations (machines)\n",
    "    operations = random.sample(machineList, np.random.randint(low=2, high=15))\n",
    "    operations.insert(0, 'start')\n",
    "    # Pariwise dataframe\n",
    "    operations = pd.DataFrame(list(pairwise(operations)), columns=['tripStartMachine', 'tripEndMachine'])\n",
    "    operations['PN'] = PN\n",
    "    # Append to results dataframe\n",
    "    partOperations = partOperations.append(operations, sort=False)\n",
    "\n",
    "partOperations.head()"
   ]
  },
  {
   "cell_type": "markdown",
   "metadata": {},
   "source": [
    "Finally, we prescribe a floorplan with slots for at least as many machines as we have listed. Here we also measure distances between all slots. This calculation is done once so that we don't recalculate distances between machines on the fly."
   ]
  },
  {
   "cell_type": "code",
   "execution_count": null,
   "metadata": {},
   "outputs": [],
   "source": [
    "# Floorplan\n",
    "\n",
    "## Set parameters of layout\n",
    "aisleCount = 10\n",
    "machinesPerSide = 5\n",
    "\n",
    "## Generate list of distances between each slot and each aisle\n",
    "## Schema:\n",
    "## slotID | aisle | position | dTop | dMid | dBot\n",
    "\n",
    "## Generate coordinates\n",
    "slotDistances = pd.DataFrame(list(itertools.product(list(range(aisleCount)), list(range((2*machinesPerSide) + 3)))),\n",
    "                             columns=['aisle', 'position'])\n",
    "\n",
    "## Measure distances\n",
    "slotDistances['dTop'] = ((2*machinesPerSide) + 3 - 1) - slotDistances[['position']]\n",
    "slotDistances['dBot'] = slotDistances[['position']]\n",
    "slotDistances['dMid'] = np.abs(slotDistances[['position']] - (machinesPerSide + 1))\n",
    "\n",
    "## Remove aisles\n",
    "slotDistances = slotDistances[~slotDistances.position.isin([0, machinesPerSide+1, 2*machinesPerSide+2])]\n",
    "\n",
    "## Add slot ID\n",
    "slotDistances['slotID'] = range(0, len(slotDistances))\n",
    "slotDistances.set_index('slotID', inplace=True)\n",
    "\n",
    "slotIndex = slotDistances.index\n",
    "\n",
    "# Pairwise slot distances\n",
    "pairDistances = []\n",
    "for x in list(itertools.product(slotDistances.index, slotDistances.index)):\n",
    "    dTopA = slotDistances.dTop.loc[x[0]]\n",
    "    dMidA = slotDistances.dMid.loc[x[0]]\n",
    "    dBotA = slotDistances.dBot.loc[x[0]]\n",
    "    aisleA = slotDistances.aisle.loc[x[0]]\n",
    "    dTopB = slotDistances.dTop.loc[x[1]]\n",
    "    dMidB = slotDistances.dMid.loc[x[1]]\n",
    "    dBotB = slotDistances.dBot.loc[x[1]]\n",
    "    aisleB = slotDistances.aisle.loc[x[1]]\n",
    "    \n",
    "    if aisleA == aisleB:\n",
    "        dist = np.abs(dTopA - dTopB)\n",
    "    else:\n",
    "        dist = min((dTopA + dTopB), (dMidA + dMidB), (dBotA + dBotB)) + np.abs(aisleA - aisleB)\n",
    "    \n",
    "    pairDistances.append((x[0], x[1], dist))\n",
    "    \n",
    "# Convert to dataframe\n",
    "pairDistances = pd.DataFrame(pairDistances, columns=['tripStartSlotID', 'tripEndSlotID', 'distance'])\n",
    "\n",
    "# Add distances from start to each slot\n",
    "startDistances = slotDistances[['dMid', 'aisle']].reset_index()\n",
    "startDistances.columns = ['tripEndSlotID', 'dMid', 'aisle']\n",
    "startDistances['distance'] = startDistances.dMid + startDistances.aisle + 1\n",
    "startDistances['tripStartSlotID'] = 'start'\n",
    "pairDistances = pairDistances.append(startDistances[['tripStartSlotID', 'tripEndSlotID', 'distance']], sort=False)\n",
    "\n",
    "# Clean up typing\n",
    "pairDistances['tripEndSlotID'] = pairDistances.tripEndSlotID.astype('O')"
   ]
  },
  {
   "cell_type": "code",
   "execution_count": null,
   "metadata": {},
   "outputs": [],
   "source": [
    "slotIndex"
   ]
  },
  {
   "cell_type": "code",
   "execution_count": null,
   "metadata": {},
   "outputs": [],
   "source": [
    "slotDistances.head()"
   ]
  },
  {
   "cell_type": "code",
   "execution_count": null,
   "metadata": {},
   "outputs": [],
   "source": [
    "pairDistances.tail()"
   ]
  },
  {
   "cell_type": "markdown",
   "metadata": {},
   "source": [
    "# Assignment and Fitness"
   ]
  },
  {
   "cell_type": "code",
   "execution_count": null,
   "metadata": {},
   "outputs": [],
   "source": [
    "# Sample len(machine) slots from slot index to allocate machines to slots\n",
    "slotAssignment = pd.DataFrame({'machineID': machineList, \n",
    "                               'slotID': random.sample(list(slotIndex), len(machineList))})\n",
    "\n",
    "# Join a complete list of slotIDs to include blanks\n",
    "slotAssignment = slotAssignment.merge(pd.DataFrame({'slotID': list(slotIndex)}), how='right').sort_values('slotID')\n",
    "\n",
    "# Add start position\n",
    "slotAssignment = slotAssignment.append(pd.DataFrame({'machineID': ['start'], 'slotID': ['start']}), sort=False)\n",
    "slotAssignment = slotAssignment.reset_index(drop=True)\n",
    "\n",
    "slotAssignment.head()"
   ]
  },
  {
   "cell_type": "code",
   "execution_count": null,
   "metadata": {},
   "outputs": [],
   "source": [
    "# Define the fitness function to measure quality of a solution\n",
    "def costFunction(floorplan, partOps, pairDists, partVolumes):\n",
    "    # Map machines in part ops to slots in floorplan\n",
    "    fitnessCalc = partOps.merge(floorplan, how='left', left_on='tripStartMachine', right_on='machineID')\n",
    "    fitnessCalc = fitnessCalc.merge(floorplan, how='left', left_on='tripEndMachine', right_on='machineID')\n",
    "    ## Clean up the join\n",
    "    fitnessCalc = fitnessCalc[['PN', 'tripStartMachine', 'tripEndMachine',\n",
    "                              'slotID_x', 'slotID_y']]\n",
    "    fitnessCalc.columns = ['PN', 'tripStartMachine', 'tripEndMachine',\n",
    "                           'tripStartSlotID', 'tripEndSlotID']\n",
    "    \n",
    "    # Add distances between slot pairs\n",
    "    fitnessCalc = fitnessCalc.merge(pairDists, how='left',\n",
    "                                   on=['tripStartSlotID', 'tripEndSlotID'])\n",
    "    \n",
    "    # Part volume\n",
    "    fitnessCalc = fitnessCalc.merge(partVolumes, how='left', on='PN')\n",
    "\n",
    "    # calculate total travels\n",
    "    fitnessCalc['weightedDistance'] = fitnessCalc.distance * fitnessCalc.Volume\n",
    "    result = sum(fitnessCalc.weightedDistance)\n",
    "        \n",
    "    return(result)\n",
    "\n",
    "# Test the fitness function on the initial configuration\n",
    "initCost = costFunction(slotAssignment, partOperations, pairDistances, partTable)\n",
    "initCost"
   ]
  },
  {
   "cell_type": "code",
   "execution_count": null,
   "metadata": {},
   "outputs": [],
   "source": [
    "# Define function to swap n pairs of slots during annealing\n",
    "def iteratePlan(floorplan, slots, n=2):\n",
    "    while n > 0:\n",
    "        # Take 2 slots at random\n",
    "        slotsToSwap = random.sample(list(slots), 2)\n",
    "        subdat = floorplan.loc[floorplan.slotID.isin(slotsToSwap), :]\n",
    "        # Reverse order\n",
    "        subdat.loc[:,'machineID'] = subdat.loc[:,'machineID'].values[::-1]\n",
    "        # Replace in floorplan\n",
    "        floorplan = floorplan.loc[~floorplan.slotID.isin(slotsToSwap), :]\n",
    "        floorplan = floorplan.append(subdat)\n",
    "        # Increment down\n",
    "        n = n-1\n",
    "    return(floorplan)\n",
    "\n",
    "# See a sample swap\n",
    "iteratePlan(slotAssignment, slotIndex).head()"
   ]
  },
  {
   "cell_type": "markdown",
   "metadata": {},
   "source": [
    "## Annealing"
   ]
  },
  {
   "cell_type": "code",
   "execution_count": null,
   "metadata": {},
   "outputs": [],
   "source": [
    "# Initialize parameters\n",
    "def acceptanceProbability(oldCost, newCost, temp):\n",
    "    return np.exp((oldCost - newCost) / temp)\n",
    "\n",
    "def anneal(sol, partOps, pairDist, partTbl, slotIdx):\n",
    "    # Initialize the annealer\n",
    "    old_cost = costFunction(sol, partOps, pairDist, partTbl)\n",
    "    T = 1.0\n",
    "    Tmin = 0.0001\n",
    "    alpha = 0.85\n",
    "    Tsamples = 20\n",
    "    Tlist = []\n",
    "    Clist = []\n",
    "    \n",
    "    # Start main loop\n",
    "    iloop = 1\n",
    "    while T > Tmin:\n",
    "        i = 1\n",
    "        while i <= Tsamples:\n",
    "            new_sol = iteratePlan(sol, slotIdx, n=1)\n",
    "            new_cost = costFunction(new_sol, partOps, pairDist, partTbl)\n",
    "            ap = acceptanceProbability(old_cost, new_cost, T)\n",
    "            if ap > random.random():\n",
    "                sol = new_sol\n",
    "                old_cost = new_cost\n",
    "            i += 1\n",
    "        print(\"Temperature: {}    | Score: {}\".format(T, old_cost))\n",
    "        Tlist = Tlist + [iloop]\n",
    "        Clist = Clist + [old_cost]\n",
    "        T = T*alpha\n",
    "        iloop += 1\n",
    "    return sol, old_cost, Tlist, Clist\n",
    "\n",
    "    \n",
    "finalLayout, cost, Tlist, Clist= anneal(slotAssignment, partOperations, pairDistances, partTable, slotIndex)"
   ]
  },
  {
   "cell_type": "code",
   "execution_count": null,
   "metadata": {},
   "outputs": [],
   "source": [
    "results = pd.DataFrame({'temperature': Tlist, 'cost': Clist})"
   ]
  },
  {
   "cell_type": "code",
   "execution_count": null,
   "metadata": {},
   "outputs": [],
   "source": [
    "plt.figure(figsize=(6,8))\n",
    "plt.scatter(results.temperature, results.cost)"
   ]
  },
  {
   "cell_type": "code",
   "execution_count": null,
   "metadata": {},
   "outputs": [],
   "source": [
    "print(\"Percent improvement over random: {}%\".format(round(100 * (initCost - cost) / initCost,2)))"
   ]
  },
  {
   "cell_type": "code",
   "execution_count": null,
   "metadata": {},
   "outputs": [],
   "source": [
    "finalLayout = finalLayout[~(finalLayout.slotID == 'start')]\n",
    "finalLayout.slotID = finalLayout.slotID.astype('int')"
   ]
  },
  {
   "cell_type": "code",
   "execution_count": null,
   "metadata": {},
   "outputs": [],
   "source": [
    "fillPlot = slotDistances.reset_index().merge(finalLayout, how='left')\n",
    "fillPlot.machineID[fillPlot.machineID.notna()] = 1\n",
    "fillPlot.machineID[fillPlot.machineID.isna()] = 0\n",
    "fillPlot.machineID = fillPlot.machineID.astype(float)\n",
    "fillPlot.head(10)\n",
    "fillPlot.dtypes\n",
    "plt.scatter(fillPlot.aisle, fillPlot.position, c = fillPlot.machineID)"
   ]
  }
 ],
 "metadata": {
  "kernelspec": {
   "display_name": "Python 3",
   "language": "python",
   "name": "python3"
  },
  "language_info": {
   "codemirror_mode": {
    "name": "ipython",
    "version": 3
   },
   "file_extension": ".py",
   "mimetype": "text/x-python",
   "name": "python",
   "nbconvert_exporter": "python",
   "pygments_lexer": "ipython3",
   "version": "3.6.5"
  },
  "toc": {
   "base_numbering": 1,
   "nav_menu": {},
   "number_sections": true,
   "sideBar": true,
   "skip_h1_title": false,
   "title_cell": "Table of Contents",
   "title_sidebar": "Contents",
   "toc_cell": false,
   "toc_position": {},
   "toc_section_display": true,
   "toc_window_display": true
  },
  "varInspector": {
   "cols": {
    "lenName": 16,
    "lenType": 16,
    "lenVar": 40
   },
   "kernels_config": {
    "python": {
     "delete_cmd_postfix": "",
     "delete_cmd_prefix": "del ",
     "library": "var_list.py",
     "varRefreshCmd": "print(var_dic_list())"
    },
    "r": {
     "delete_cmd_postfix": ") ",
     "delete_cmd_prefix": "rm(",
     "library": "var_list.r",
     "varRefreshCmd": "cat(var_dic_list()) "
    }
   },
   "types_to_exclude": [
    "module",
    "function",
    "builtin_function_or_method",
    "instance",
    "_Feature"
   ],
   "window_display": false
  }
 },
 "nbformat": 4,
 "nbformat_minor": 2
}
